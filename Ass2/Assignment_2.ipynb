{
 "cells": [
  {
   "cell_type": "markdown",
   "metadata": {},
   "source": [
    "# 1a"
   ]
  },
  {
   "cell_type": "code",
   "execution_count": 1,
   "metadata": {
    "vscode": {
     "languageId": "r"
    }
   },
   "outputs": [
    {
     "data": {
      "text/html": [
       "<table class=\"dataframe\">\n",
       "<caption>A data.frame: 6 × 3</caption>\n",
       "<thead>\n",
       "\t<tr><th></th><th scope=col>thorax</th><th scope=col>longevity</th><th scope=col>activity</th></tr>\n",
       "\t<tr><th></th><th scope=col>&lt;dbl&gt;</th><th scope=col>&lt;int&gt;</th><th scope=col>&lt;chr&gt;</th></tr>\n",
       "</thead>\n",
       "<tbody>\n",
       "\t<tr><th scope=row>1</th><td>0.64</td><td>40</td><td>isolated</td></tr>\n",
       "\t<tr><th scope=row>2</th><td>0.70</td><td>37</td><td>isolated</td></tr>\n",
       "\t<tr><th scope=row>3</th><td>0.72</td><td>44</td><td>isolated</td></tr>\n",
       "\t<tr><th scope=row>4</th><td>0.72</td><td>47</td><td>isolated</td></tr>\n",
       "\t<tr><th scope=row>5</th><td>0.72</td><td>47</td><td>isolated</td></tr>\n",
       "\t<tr><th scope=row>6</th><td>0.76</td><td>47</td><td>isolated</td></tr>\n",
       "</tbody>\n",
       "</table>\n"
      ],
      "text/latex": [
       "A data.frame: 6 × 3\n",
       "\\begin{tabular}{r|lll}\n",
       "  & thorax & longevity & activity\\\\\n",
       "  & <dbl> & <int> & <chr>\\\\\n",
       "\\hline\n",
       "\t1 & 0.64 & 40 & isolated\\\\\n",
       "\t2 & 0.70 & 37 & isolated\\\\\n",
       "\t3 & 0.72 & 44 & isolated\\\\\n",
       "\t4 & 0.72 & 47 & isolated\\\\\n",
       "\t5 & 0.72 & 47 & isolated\\\\\n",
       "\t6 & 0.76 & 47 & isolated\\\\\n",
       "\\end{tabular}\n"
      ],
      "text/markdown": [
       "\n",
       "A data.frame: 6 × 3\n",
       "\n",
       "| <!--/--> | thorax &lt;dbl&gt; | longevity &lt;int&gt; | activity &lt;chr&gt; |\n",
       "|---|---|---|---|\n",
       "| 1 | 0.64 | 40 | isolated |\n",
       "| 2 | 0.70 | 37 | isolated |\n",
       "| 3 | 0.72 | 44 | isolated |\n",
       "| 4 | 0.72 | 47 | isolated |\n",
       "| 5 | 0.72 | 47 | isolated |\n",
       "| 6 | 0.76 | 47 | isolated |\n",
       "\n"
      ],
      "text/plain": [
       "  thorax longevity activity\n",
       "1 0.64   40        isolated\n",
       "2 0.70   37        isolated\n",
       "3 0.72   44        isolated\n",
       "4 0.72   47        isolated\n",
       "5 0.72   47        isolated\n",
       "6 0.76   47        isolated"
      ]
     },
     "metadata": {},
     "output_type": "display_data"
    }
   ],
   "source": [
    "df <- read.table('fruitflies.txt', header = TRUE)\n",
    "head(df)"
   ]
  },
  {
   "cell_type": "code",
   "execution_count": 2,
   "metadata": {
    "vscode": {
     "languageId": "r"
    }
   },
   "outputs": [
    {
     "name": "stdout",
     "output_type": "stream",
     "text": [
      "[1] \"thorax\"    \"longevity\" \"activity\" \n"
     ]
    }
   ],
   "source": [
    "column_names <- colnames(df)\n",
    "print(column_names)"
   ]
  },
  {
   "cell_type": "markdown",
   "metadata": {},
   "source": [
    "The dataframe shoes the thorax length, the longivity and the activity levl of each fruitfly. We're now gooing to add the log-longevity to this table. "
   ]
  },
  {
   "cell_type": "code",
   "execution_count": 3,
   "metadata": {
    "vscode": {
     "languageId": "r"
    }
   },
   "outputs": [],
   "source": [
    "# Add the loglongevity column\n",
    "df$loglongevity <- log(df$longevity)"
   ]
  },
  {
   "cell_type": "markdown",
   "metadata": {},
   "source": [
    "Now we're gonan provide some visualizations to help understand the relationship between the variables. "
   ]
  },
  {
   "cell_type": "code",
   "execution_count": 4,
   "metadata": {
    "vscode": {
     "languageId": "r"
    }
   },
   "outputs": [
    {
     "data": {
      "image/png": "[encoded data removed]",
      "text/plain": [
       "plot without title"
      ]
     },
     "metadata": {
      "image/png": {
       "height": 420,
       "width": 420
      }
     },
     "output_type": "display_data"
    }
   ],
   "source": [
    "library(ggplot2)\n",
    "ggplot(df, aes(x = activity, y = loglongevity)) +\n",
    "  geom_boxplot() +\n",
    "  labs(title = 'Effect of Sexual Activity on Longevity')"
   ]
  },
  {
   "cell_type": "code",
   "execution_count": 5,
   "metadata": {
    "vscode": {
     "languageId": "r"
    }
   },
   "outputs": [
    {
     "data": {
      "image/png": "[encoded data removed]",
      "text/plain": [
       "plot without title"
      ]
     },
     "metadata": {
      "image/png": {
       "height": 420,
       "width": 420
      }
     },
     "output_type": "display_data"
    }
   ],
   "source": [
    "ggplot(df, aes(x = thorax, y = longevity, color = activity)) +\n",
    "  geom_point() +\n",
    "  labs(title = 'Longevity vs Thorax with Color Coding of Activity')"
   ]
  },
  {
   "cell_type": "code",
   "execution_count": 6,
   "metadata": {
    "vscode": {
     "languageId": "r"
    }
   },
   "outputs": [
    {
     "data": {
      "text/plain": [
       "            Df Sum Sq Mean Sq F value   Pr(>F)    \n",
       "activity     2   8239    4120   19.31 1.93e-07 ***\n",
       "Residuals   72  15360     213                     \n",
       "---\n",
       "Signif. codes:  0 '***' 0.001 '**' 0.01 '*' 0.05 '.' 0.1 ' ' 1"
      ]
     },
     "metadata": {},
     "output_type": "display_data"
    }
   ],
   "source": [
    "# Statistical test - ANOVA\n",
    "anova_result <- aov(longevity ~ activity, data = df)\n",
    "summary(anova_result)"
   ]
  },
  {
   "cell_type": "markdown",
   "metadata": {},
   "source": [
    "Looking at the results of the anova test it is possible to conclude that tehre is significant difference between the longevity of different groups taken into account their activity level."
   ]
  },
  {
   "cell_type": "code",
   "execution_count": 7,
   "metadata": {
    "vscode": {
     "languageId": "r"
    }
   },
   "outputs": [
    {
     "name": "stdout",
     "output_type": "stream",
     "text": [
      "    high isolated      low \n",
      "   38.72    63.56    56.76 \n"
     ]
    }
   ],
   "source": [
    "estimated_longevity <- tapply(df$longevity, df$activity, mean)\n",
    "print(estimated_longevity)"
   ]
  },
  {
   "cell_type": "markdown",
   "metadata": {},
   "source": [
    "The estimated longevity is calculated by taking the sample mean of eeach logevity group. "
   ]
  },
  {
   "cell_type": "markdown",
   "metadata": {},
   "source": [
    "# 1b"
   ]
  },
  {
   "cell_type": "code",
   "execution_count": 8,
   "metadata": {
    "vscode": {
     "languageId": "r"
    }
   },
   "outputs": [
    {
     "data": {
      "text/plain": [
       "\n",
       "Call:\n",
       "lm(formula = longevity ~ activity + thorax, data = df)\n",
       "\n",
       "Residuals:\n",
       "    Min      1Q  Median      3Q     Max \n",
       "-19.688  -8.622  -1.176   6.790  26.605 \n",
       "\n",
       "Coefficients:\n",
       "                 Estimate Std. Error t value Pr(>|t|)    \n",
       "(Intercept)       -67.375     12.750  -5.284 1.33e-06 ***\n",
       "activityisolated   20.066      2.994   6.701 4.13e-09 ***\n",
       "activitylow        13.054      2.999   4.352 4.43e-05 ***\n",
       "thorax            132.618     15.725   8.434 2.62e-12 ***\n",
       "---\n",
       "Signif. codes:  0 '***' 0.001 '**' 0.01 '*' 0.05 '.' 0.1 ' ' 1\n",
       "\n",
       "Residual standard error: 10.4 on 71 degrees of freedom\n",
       "Multiple R-squared:  0.6749,\tAdjusted R-squared:  0.6611 \n",
       "F-statistic: 49.12 on 3 and 71 DF,  p-value: < 2.2e-16\n"
      ]
     },
     "metadata": {},
     "output_type": "display_data"
    }
   ],
   "source": [
    "ancova_model <- lm(longevity ~ activity + thorax, data = df)\n",
    "summary(ancova_model)"
   ]
  },
  {
   "cell_type": "markdown",
   "metadata": {},
   "source": [
    "The positive coefficient for 'thorax' suggests that, flies with longer thorax lengths tend to have higher estimated longevities. The same can be said for the other activity levels of the animals. "
   ]
  },
  {
   "cell_type": "code",
   "execution_count": 9,
   "metadata": {
    "vscode": {
     "languageId": "r"
    }
   },
   "outputs": [
    {
     "name": "stdout",
     "output_type": "stream",
     "text": [
      "       1        2        3 \n",
      "62.03931 55.02712 41.97357 \n"
     ]
    }
   ],
   "source": [
    "average_thorax <- mean(df$thorax)\n",
    "\n",
    "predictions <- data.frame(activity = unique(df$activity), thorax = average_thorax)\n",
    "\n",
    "predicted_longevity <- predict(ancova_model, newdata = predictions)\n",
    "print(predicted_longevity)"
   ]
  },
  {
   "cell_type": "markdown",
   "metadata": {},
   "source": [
    "The result shows varying in longevity given the average thorax for different activity groups"
   ]
  },
  {
   "cell_type": "markdown",
   "metadata": {},
   "source": [
    "# 1c\n"
   ]
  },
  {
   "cell_type": "code",
   "execution_count": 10,
   "metadata": {
    "vscode": {
     "languageId": "r"
    }
   },
   "outputs": [
    {
     "data": {
      "image/png": "[encoded data removed]",
      "text/plain": [
       "plot without title"
      ]
     },
     "metadata": {
      "image/png": {
       "height": 420,
       "width": 420
      }
     },
     "output_type": "display_data"
    }
   ],
   "source": [
    "ggplot(df, aes(x = activity, y = thorax, fill = activity)) +\n",
    "    geom_boxplot() +\n",
    "    labs(title = 'Boxplot of Thorax Length by Activity',\n",
    "         x = 'Activity',\n",
    "         y = 'Thorax Length') +\n",
    "    theme_minimal() +\n",
    "    scale_fill_brewer(palette = \"Blues\") \n"
   ]
  },
  {
   "cell_type": "code",
   "execution_count": 11,
   "metadata": {
    "vscode": {
     "languageId": "r"
    }
   },
   "outputs": [
    {
     "data": {
      "image/png": "[encoded data removed]",
      "text/plain": [
       "plot without title"
      ]
     },
     "metadata": {
      "image/png": {
       "height": 420,
       "width": 420
      }
     },
     "output_type": "display_data"
    }
   ],
   "source": [
    "ggplot(df, aes(x = thorax, y = longevity, color = activity)) +\n",
    "  geom_point() +\n",
    "  facet_wrap(~activity) +\n",
    "  labs(title = 'Scatter Plot of Longevity vs Thorax, Faceted by Activity',\n",
    "       x = 'Thorax Length',\n",
    "       y = 'Longevity') +\n",
    "  theme_minimal()"
   ]
  },
  {
   "cell_type": "code",
   "execution_count": 12,
   "metadata": {
    "vscode": {
     "languageId": "r"
    }
   },
   "outputs": [
    {
     "name": "stderr",
     "output_type": "stream",
     "text": [
      "\u001b[1m\u001b[22m`geom_smooth()` using formula = 'y ~ x'\n",
      "Warning message:\n",
      "\"\u001b[1m\u001b[22mThe following aesthetics were dropped during statistical transformation: \u001b[32mcolour\u001b[39m\n",
      "\u001b[36mℹ\u001b[39m This can happen when ggplot fails to infer the correct grouping structure in\n",
      "  the data.\n",
      "\u001b[36mℹ\u001b[39m Did you forget to specify a `group` aesthetic or to convert a numerical\n",
      "  variable into a factor?\"\n"
     ]
    },
    {
     "data": {
      "image/png": "[encoded data removed]",
      "text/plain": [
       "plot without title"
      ]
     },
     "metadata": {
      "image/png": {
       "height": 420,
       "width": 420
      }
     },
     "output_type": "display_data"
    }
   ],
   "source": [
    "ggplot(df, aes(x = thorax, y = longevity, color = activity)) +\n",
    "  geom_point() +\n",
    "  geom_smooth(method = \"lm\", se = FALSE, linetype = \"dashed\", aes(group = 1)) +\n",
    "  labs(title = 'Interaction Plot of Longevity vs Thorax by Activity',\n",
    "       x = 'Thorax Length',\n",
    "       y = 'Longevity') +\n",
    "  theme_minimal()"
   ]
  },
  {
   "cell_type": "code",
   "execution_count": 13,
   "metadata": {
    "vscode": {
     "languageId": "r"
    }
   },
   "outputs": [
    {
     "name": "stdout",
     "output_type": "stream",
     "text": [
      "Analysis of Variance Table\n",
      "\n",
      "Response: longevity\n",
      "                Df  Sum Sq Mean Sq F value    Pr(>F)    \n",
      "thorax           1 10959.3 10959.3 98.7184 6.083e-15 ***\n",
      "activity         2  4966.7  2483.4 22.3696 3.246e-08 ***\n",
      "thorax:activity  2    12.9     6.5  0.0583    0.9435    \n",
      "Residuals       69  7660.1   111.0                      \n",
      "---\n",
      "Signif. codes:  0 '***' 0.001 '**' 0.01 '*' 0.05 '.' 0.1 ' ' 1\n"
     ]
    }
   ],
   "source": [
    "interaction_model <- lm(longevity ~ thorax * activity, data = df)\n",
    "\n",
    "# ANOVA for interaction term\n",
    "interaction_anova <- anova(interaction_model)\n",
    "print(interaction_anova)"
   ]
  },
  {
   "cell_type": "markdown",
   "metadata": {},
   "source": [
    "Given a p value of 0.9435 it is likely that there is no significant interaction effect between thorax length and activity level in predicting longevity."
   ]
  },
  {
   "cell_type": "markdown",
   "metadata": {},
   "source": [
    "# 1d"
   ]
  },
  {
   "cell_type": "markdown",
   "metadata": {},
   "source": [
    "First we're gonna look at correlation between thorax and longevity. "
   ]
  },
  {
   "cell_type": "code",
   "execution_count": 14,
   "metadata": {
    "vscode": {
     "languageId": "r"
    }
   },
   "outputs": [
    {
     "name": "stdout",
     "output_type": "stream",
     "text": [
      "Overall Correlation: 0.6814655 \n",
      "\n"
     ]
    }
   ],
   "source": [
    "overall_corr <- cor(df$thorax, df$longevity)\n",
    "\n",
    "cat(\"Overall Correlation:\", overall_corr, \"\\n\\n\")\n"
   ]
  },
  {
   "cell_type": "markdown",
   "metadata": {},
   "source": [
    "Secondly I'm gonna fit a linear model that includes an interaction term between length and activity group. A significant p-value indicates that the influence of thorax length on longevity differs across the treatment groups."
   ]
  },
  {
   "cell_type": "code",
   "execution_count": 15,
   "metadata": {
    "vscode": {
     "languageId": "r"
    }
   },
   "outputs": [
    {
     "data": {
      "text/plain": [
       "\n",
       "Call:\n",
       "lm(formula = loglongevity ~ activity * thorax, data = df)\n",
       "\n",
       "Residuals:\n",
       "     Min       1Q   Median       3Q      Max \n",
       "-0.49803 -0.15920 -0.00031  0.14624  0.35984 \n",
       "\n",
       "Coefficients:\n",
       "                        Estimate Std. Error t value Pr(>|t|)    \n",
       "(Intercept)               0.5978     0.4192   1.426   0.1584    \n",
       "activityisolated          1.5465     0.5845   2.646   0.0101 *  \n",
       "activitylow               0.9717     0.6423   1.513   0.1349    \n",
       "thorax                    3.7554     0.5216   7.199 5.78e-10 ***\n",
       "activityisolated:thorax  -1.3929     0.7122  -1.956   0.0545 .  \n",
       "activitylow:thorax       -0.8539     0.7794  -1.096   0.2771    \n",
       "---\n",
       "Signif. codes:  0 '***' 0.001 '**' 0.01 '*' 0.05 '.' 0.1 ' ' 1\n",
       "\n",
       "Residual standard error: 0.2001 on 69 degrees of freedom\n",
       "Multiple R-squared:  0.7359,\tAdjusted R-squared:  0.7167 \n",
       "F-statistic: 38.44 on 5 and 69 DF,  p-value: < 2.2e-16\n"
      ]
     },
     "metadata": {},
     "output_type": "display_data"
    }
   ],
   "source": [
    "model <- lm(loglongevity ~ activity * thorax, data = df) \n",
    "summary(model)"
   ]
  },
  {
   "cell_type": "markdown",
   "metadata": {},
   "source": [
    "In conclusion i believe that due to its expleantory power the thorax variable should be kept for the analysis. "
   ]
  },
  {
   "cell_type": "markdown",
   "metadata": {},
   "source": [
    "# 1e"
   ]
  },
  {
   "cell_type": "code",
   "execution_count": 16,
   "metadata": {
    "vscode": {
     "languageId": "r"
    }
   },
   "outputs": [
    {
     "data": {
      "text/plain": [
       "\n",
       "Call:\n",
       "lm(formula = longevity ~ activity + thorax, data = df)\n",
       "\n",
       "Residuals:\n",
       "    Min      1Q  Median      3Q     Max \n",
       "-19.688  -8.622  -1.176   6.790  26.605 \n",
       "\n",
       "Coefficients:\n",
       "                 Estimate Std. Error t value Pr(>|t|)    \n",
       "(Intercept)       -67.375     12.750  -5.284 1.33e-06 ***\n",
       "activityisolated   20.066      2.994   6.701 4.13e-09 ***\n",
       "activitylow        13.054      2.999   4.352 4.43e-05 ***\n",
       "thorax            132.618     15.725   8.434 2.62e-12 ***\n",
       "---\n",
       "Signif. codes:  0 '***' 0.001 '**' 0.01 '*' 0.05 '.' 0.1 ' ' 1\n",
       "\n",
       "Residual standard error: 10.4 on 71 degrees of freedom\n",
       "Multiple R-squared:  0.6749,\tAdjusted R-squared:  0.6611 \n",
       "F-statistic: 49.12 on 3 and 71 DF,  p-value: < 2.2e-16\n"
      ]
     },
     "metadata": {},
     "output_type": "display_data"
    }
   ],
   "source": [
    "ancova_model_days <- lm(longevity ~ activity + thorax, data = df)\n",
    "\n",
    "summary(ancova_model_days)"
   ]
  },
  {
   "cell_type": "code",
   "execution_count": 17,
   "metadata": {
    "vscode": {
     "languageId": "r"
    }
   },
   "outputs": [
    {
     "data": {
      "text/plain": [
       "\n",
       "Call:\n",
       "lm(formula = loglongevity ~ activity + thorax, data = df)\n",
       "\n",
       "Residuals:\n",
       "    Min      1Q  Median      3Q     Max \n",
       "-0.4858 -0.1612  0.0104  0.1510  0.3574 \n",
       "\n",
       "Coefficients:\n",
       "                 Estimate Std. Error t value Pr(>|t|)    \n",
       "(Intercept)       1.21893    0.24865   4.902 5.79e-06 ***\n",
       "activityisolated  0.40998    0.05839   7.021 1.07e-09 ***\n",
       "activitylow       0.28570    0.05849   4.885 6.18e-06 ***\n",
       "thorax            2.97899    0.30665   9.715 1.14e-14 ***\n",
       "---\n",
       "Signif. codes:  0 '***' 0.001 '**' 0.01 '*' 0.05 '.' 0.1 ' ' 1\n",
       "\n",
       "Residual standard error: 0.2027 on 71 degrees of freedom\n",
       "Multiple R-squared:  0.7211,\tAdjusted R-squared:  0.7093 \n",
       "F-statistic:  61.2 on 3 and 71 DF,  p-value: < 2.2e-16\n"
      ]
     },
     "metadata": {},
     "output_type": "display_data"
    }
   ],
   "source": [
    "ancova_model_log <- lm(loglongevity ~ activity + thorax, data = df)\n",
    "\n",
    "summary(ancova_model_log)"
   ]
  },
  {
   "cell_type": "code",
   "execution_count": 18,
   "metadata": {
    "vscode": {
     "languageId": "r"
    }
   },
   "outputs": [
    {
     "data": {
      "image/png": "[encoded data removed]",
      "text/plain": [
       "Plot with title \"\""
      ]
     },
     "metadata": {
      "image/png": {
       "height": 420,
       "width": 420
      }
     },
     "output_type": "display_data"
    }
   ],
   "source": [
    "#checking the residuals of the two models\n",
    "par(mfrow = c(2, 2))\n",
    "plot(ancova_model_days)"
   ]
  },
  {
   "cell_type": "code",
   "execution_count": 19,
   "metadata": {
    "vscode": {
     "languageId": "r"
    }
   },
   "outputs": [
    {
     "data": {
      "image/png": "[encoded data removed]",
      "text/plain": [
       "Plot with title \"\""
      ]
     },
     "metadata": {
      "image/png": {
       "height": 420,
       "width": 420
      }
     },
     "output_type": "display_data"
    }
   ],
   "source": [
    "\n",
    "par(mfrow = c(2, 2))\n",
    "plot(ancova_model_log)"
   ]
  },
  {
   "cell_type": "markdown",
   "metadata": {},
   "source": [
    "It is best to use the log of a variable given:\n",
    "\n",
    "Unequal variance: When the data shows uneven spread (heteroscedasticity) across different values of the predictor variables (like activity group), using the log can help stabilize the variance and make the analysis more reliable.\n",
    "\n",
    "Non-normal residuals: If the leftovers (residuals) from the model don't follow a regular bell-shaped curve (normal distribution), using the log can sometimes make them more normal, which is a common assumption for many statistical models.\n",
    "\n",
    "Which model to choose? From the plots above it doesn't seem that the non-log version has worse variance or non normal residuals, it is therefore possible to use the non-log version without risks."
   ]
  },
  {
   "cell_type": "markdown",
   "metadata": {},
   "source": [
    "# 2a"
   ]
  },
  {
   "cell_type": "code",
   "execution_count": 20,
   "metadata": {
    "vscode": {
     "languageId": "r"
    }
   },
   "outputs": [
    {
     "data": {
      "text/html": [
       "<table class=\"dataframe\">\n",
       "<caption>A data.frame: 6 × 16</caption>\n",
       "<thead>\n",
       "\t<tr><th></th><th scope=col>ID</th><th scope=col>Length</th><th scope=col>Birthweight</th><th scope=col>Headcirc</th><th scope=col>Gestation</th><th scope=col>smoker</th><th scope=col>mage</th><th scope=col>mnocig</th><th scope=col>mheight</th><th scope=col>mppwt</th><th scope=col>fage</th><th scope=col>fedyrs</th><th scope=col>fnocig</th><th scope=col>fheight</th><th scope=col>lowbwt</th><th scope=col>mage35</th></tr>\n",
       "\t<tr><th></th><th scope=col>&lt;int&gt;</th><th scope=col>&lt;int&gt;</th><th scope=col>&lt;dbl&gt;</th><th scope=col>&lt;int&gt;</th><th scope=col>&lt;int&gt;</th><th scope=col>&lt;int&gt;</th><th scope=col>&lt;int&gt;</th><th scope=col>&lt;int&gt;</th><th scope=col>&lt;int&gt;</th><th scope=col>&lt;int&gt;</th><th scope=col>&lt;int&gt;</th><th scope=col>&lt;int&gt;</th><th scope=col>&lt;int&gt;</th><th scope=col>&lt;int&gt;</th><th scope=col>&lt;int&gt;</th><th scope=col>&lt;int&gt;</th></tr>\n",
       "</thead>\n",
       "<tbody>\n",
       "\t<tr><th scope=row>1</th><td>1360</td><td>56</td><td>4.55</td><td>34</td><td>44</td><td>0</td><td>20</td><td>0</td><td>162</td><td>57</td><td>23</td><td>10</td><td>35</td><td>179</td><td>0</td><td>0</td></tr>\n",
       "\t<tr><th scope=row>2</th><td>1016</td><td>53</td><td>4.32</td><td>36</td><td>40</td><td>0</td><td>19</td><td>0</td><td>171</td><td>62</td><td>19</td><td>12</td><td> 0</td><td>183</td><td>0</td><td>0</td></tr>\n",
       "\t<tr><th scope=row>3</th><td> 462</td><td>58</td><td>4.10</td><td>39</td><td>41</td><td>0</td><td>35</td><td>0</td><td>172</td><td>58</td><td>31</td><td>16</td><td>25</td><td>185</td><td>0</td><td>1</td></tr>\n",
       "\t<tr><th scope=row>4</th><td>1187</td><td>53</td><td>4.07</td><td>38</td><td>44</td><td>0</td><td>20</td><td>0</td><td>174</td><td>68</td><td>26</td><td>14</td><td>25</td><td>189</td><td>0</td><td>0</td></tr>\n",
       "\t<tr><th scope=row>5</th><td> 553</td><td>54</td><td>3.94</td><td>37</td><td>42</td><td>0</td><td>24</td><td>0</td><td>175</td><td>66</td><td>30</td><td>12</td><td> 0</td><td>184</td><td>0</td><td>0</td></tr>\n",
       "\t<tr><th scope=row>6</th><td>1636</td><td>51</td><td>3.93</td><td>38</td><td>38</td><td>0</td><td>29</td><td>0</td><td>165</td><td>61</td><td>31</td><td>16</td><td> 0</td><td>180</td><td>0</td><td>0</td></tr>\n",
       "</tbody>\n",
       "</table>\n"
      ],
      "text/latex": [
       "A data.frame: 6 × 16\n",
       "\\begin{tabular}{r|llllllllllllllll}\n",
       "  & ID & Length & Birthweight & Headcirc & Gestation & smoker & mage & mnocig & mheight & mppwt & fage & fedyrs & fnocig & fheight & lowbwt & mage35\\\\\n",
       "  & <int> & <int> & <dbl> & <int> & <int> & <int> & <int> & <int> & <int> & <int> & <int> & <int> & <int> & <int> & <int> & <int>\\\\\n",
       "\\hline\n",
       "\t1 & 1360 & 56 & 4.55 & 34 & 44 & 0 & 20 & 0 & 162 & 57 & 23 & 10 & 35 & 179 & 0 & 0\\\\\n",
       "\t2 & 1016 & 53 & 4.32 & 36 & 40 & 0 & 19 & 0 & 171 & 62 & 19 & 12 &  0 & 183 & 0 & 0\\\\\n",
       "\t3 &  462 & 58 & 4.10 & 39 & 41 & 0 & 35 & 0 & 172 & 58 & 31 & 16 & 25 & 185 & 0 & 1\\\\\n",
       "\t4 & 1187 & 53 & 4.07 & 38 & 44 & 0 & 20 & 0 & 174 & 68 & 26 & 14 & 25 & 189 & 0 & 0\\\\\n",
       "\t5 &  553 & 54 & 3.94 & 37 & 42 & 0 & 24 & 0 & 175 & 66 & 30 & 12 &  0 & 184 & 0 & 0\\\\\n",
       "\t6 & 1636 & 51 & 3.93 & 38 & 38 & 0 & 29 & 0 & 165 & 61 & 31 & 16 &  0 & 180 & 0 & 0\\\\\n",
       "\\end{tabular}\n"
      ],
      "text/markdown": [
       "\n",
       "A data.frame: 6 × 16\n",
       "\n",
       "| <!--/--> | ID &lt;int&gt; | Length &lt;int&gt; | Birthweight &lt;dbl&gt; | Headcirc &lt;int&gt; | Gestation &lt;int&gt; | smoker &lt;int&gt; | mage &lt;int&gt; | mnocig &lt;int&gt; | mheight &lt;int&gt; | mppwt &lt;int&gt; | fage &lt;int&gt; | fedyrs &lt;int&gt; | fnocig &lt;int&gt; | fheight &lt;int&gt; | lowbwt &lt;int&gt; | mage35 &lt;int&gt; |\n",
       "|---|---|---|---|---|---|---|---|---|---|---|---|---|---|---|---|---|\n",
       "| 1 | 1360 | 56 | 4.55 | 34 | 44 | 0 | 20 | 0 | 162 | 57 | 23 | 10 | 35 | 179 | 0 | 0 |\n",
       "| 2 | 1016 | 53 | 4.32 | 36 | 40 | 0 | 19 | 0 | 171 | 62 | 19 | 12 |  0 | 183 | 0 | 0 |\n",
       "| 3 |  462 | 58 | 4.10 | 39 | 41 | 0 | 35 | 0 | 172 | 58 | 31 | 16 | 25 | 185 | 0 | 1 |\n",
       "| 4 | 1187 | 53 | 4.07 | 38 | 44 | 0 | 20 | 0 | 174 | 68 | 26 | 14 | 25 | 189 | 0 | 0 |\n",
       "| 5 |  553 | 54 | 3.94 | 37 | 42 | 0 | 24 | 0 | 175 | 66 | 30 | 12 |  0 | 184 | 0 | 0 |\n",
       "| 6 | 1636 | 51 | 3.93 | 38 | 38 | 0 | 29 | 0 | 165 | 61 | 31 | 16 |  0 | 180 | 0 | 0 |\n",
       "\n"
      ],
      "text/plain": [
       "  ID   Length Birthweight Headcirc Gestation smoker mage mnocig mheight mppwt\n",
       "1 1360 56     4.55        34       44        0      20   0      162     57   \n",
       "2 1016 53     4.32        36       40        0      19   0      171     62   \n",
       "3  462 58     4.10        39       41        0      35   0      172     58   \n",
       "4 1187 53     4.07        38       44        0      20   0      174     68   \n",
       "5  553 54     3.94        37       42        0      24   0      175     66   \n",
       "6 1636 51     3.93        38       38        0      29   0      165     61   \n",
       "  fage fedyrs fnocig fheight lowbwt mage35\n",
       "1 23   10     35     179     0      0     \n",
       "2 19   12      0     183     0      0     \n",
       "3 31   16     25     185     0      1     \n",
       "4 26   14     25     189     0      0     \n",
       "5 30   12      0     184     0      0     \n",
       "6 31   16      0     180     0      0     "
      ]
     },
     "metadata": {},
     "output_type": "display_data"
    }
   ],
   "source": [
    "df <- read.csv(\"BirthWeight.csv\")\n",
    "head(df)"
   ]
  },
  {
   "cell_type": "markdown",
   "metadata": {},
   "source": [
    "To analyse the problem of influence points we're going to use Cook's distance. This method spots the influence points in the dataset. "
   ]
  },
  {
   "cell_type": "code",
   "execution_count": 21,
   "metadata": {
    "vscode": {
     "languageId": "r"
    }
   },
   "outputs": [
    {
     "name": "stdout",
     "output_type": "stream",
     "text": [
      "   cooks_distance_values\n",
      "1           1.222644e-01\n",
      "2           4.260200e-02\n",
      "3           4.966930e-02\n",
      "4           1.879987e-02\n",
      "5           4.316599e-03\n",
      "6           2.622484e-02\n",
      "7           1.833492e-02\n",
      "8           5.167572e-06\n",
      "9           1.951297e-02\n",
      "10          7.166858e-03\n",
      "11          4.646224e-02\n",
      "12          1.395631e-02\n",
      "13          1.101673e-02\n",
      "14          2.978511e-02\n",
      "15          4.440778e-02\n",
      "16          7.292993e-03\n",
      "17          4.387902e-02\n",
      "18          6.626507e-05\n",
      "19          3.253932e-02\n",
      "20          2.172271e-01\n",
      "21          3.080121e-04\n",
      "22          2.996703e-03\n",
      "23          4.706620e-02\n",
      "24          1.901290e-01\n",
      "25          1.618562e-03\n",
      "26          2.071906e-02\n",
      "27          1.838801e-02\n",
      "28          1.719813e-01\n",
      "29          1.707412e-01\n",
      "30          6.886398e-04\n",
      "31          2.310118e-02\n",
      "32          4.677773e-02\n",
      "33          1.175976e-02\n",
      "34          1.355335e-01\n",
      "35          2.052883e-02\n",
      "36          4.809845e-02\n",
      "37          1.048152e-02\n",
      "38          9.292984e-03\n",
      "39          7.506931e-02\n",
      "40          9.537036e-03\n",
      "41          2.172533e-02\n",
      "42          1.485066e-01\n"
     ]
    }
   ],
   "source": [
    "lm_model <- lm(Birthweight ~ ., data = df)\n",
    "\n",
    "cooks_distance_values <- cooks.distance(lm_model)\n",
    "cooks_dist_values <- as.data.frame(cooks_distance_values)\n",
    "\n",
    "print(cooks_dist_values)"
   ]
  },
  {
   "cell_type": "markdown",
   "metadata": {},
   "source": [
    "To check collinearity we can instead use VIF."
   ]
  },
  {
   "cell_type": "code",
   "execution_count": 22,
   "metadata": {
    "vscode": {
     "languageId": "r"
    }
   },
   "outputs": [
    {
     "name": "stderr",
     "output_type": "stream",
     "text": [
      "Installing package into 'C:/Users/calcolatore/AppData/Local/R/win-library/4.3'\n",
      "(as 'lib' is unspecified)\n",
      "\n"
     ]
    },
    {
     "name": "stdout",
     "output_type": "stream",
     "text": [
      "package 'car' successfully unpacked and MD5 sums checked\n",
      "\n",
      "The downloaded binary packages are in\n",
      "\tC:\\Users\\calcolatore\\AppData\\Local\\Temp\\Rtmpii5koa\\downloaded_packages\n"
     ]
    },
    {
     "name": "stderr",
     "output_type": "stream",
     "text": [
      "Loading required package: carData\n",
      "\n"
     ]
    }
   ],
   "source": [
    "install.packages(\"car\")\n",
    "library(car)"
   ]
  },
  {
   "cell_type": "code",
   "execution_count": 23,
   "metadata": {
    "vscode": {
     "languageId": "r"
    }
   },
   "outputs": [
    {
     "data": {
      "text/html": [
       "<style>\n",
       ".dl-inline {width: auto; margin:0; padding: 0}\n",
       ".dl-inline>dt, .dl-inline>dd {float: none; width: auto; display: inline-block}\n",
       ".dl-inline>dt::after {content: \":\\0020\"; padding-right: .5ex}\n",
       ".dl-inline>dt:not(:first-of-type) {padding-left: .5ex}\n",
       "</style><dl class=dl-inline><dt>ID</dt><dd>1.55315241112387</dd><dt>Length</dt><dd>4.76226665028586</dd><dt>Headcirc</dt><dd>1.89096147694471</dd><dt>Gestation</dt><dd>2.64641742048259</dd><dt>smoker</dt><dd>2.82270709906829</dd><dt>mage</dt><dd>9.90222760664922</dd><dt>mnocig</dt><dd>2.86699639718775</dd><dt>mheight</dt><dd>3.35406485043639</dd><dt>mppwt</dt><dd>2.53217130948293</dd><dt>fage</dt><dd>6.73506106381177</dd><dt>fedyrs</dt><dd>1.73090856700435</dd><dt>fnocig</dt><dd>2.03545868418776</dd><dt>fheight</dt><dd>1.76295887557838</dd><dt>lowbwt</dt><dd>3.00045148787667</dd><dt>mage35</dt><dd>4.34426527738656</dd></dl>\n"
      ],
      "text/latex": [
       "\\begin{description*}\n",
       "\\item[ID] 1.55315241112387\n",
       "\\item[Length] 4.76226665028586\n",
       "\\item[Headcirc] 1.89096147694471\n",
       "\\item[Gestation] 2.64641742048259\n",
       "\\item[smoker] 2.82270709906829\n",
       "\\item[mage] 9.90222760664922\n",
       "\\item[mnocig] 2.86699639718775\n",
       "\\item[mheight] 3.35406485043639\n",
       "\\item[mppwt] 2.53217130948293\n",
       "\\item[fage] 6.73506106381177\n",
       "\\item[fedyrs] 1.73090856700435\n",
       "\\item[fnocig] 2.03545868418776\n",
       "\\item[fheight] 1.76295887557838\n",
       "\\item[lowbwt] 3.00045148787667\n",
       "\\item[mage35] 4.34426527738656\n",
       "\\end{description*}\n"
      ],
      "text/markdown": [
       "ID\n",
       ":   1.55315241112387Length\n",
       ":   4.76226665028586Headcirc\n",
       ":   1.89096147694471Gestation\n",
       ":   2.64641742048259smoker\n",
       ":   2.82270709906829mage\n",
       ":   9.90222760664922mnocig\n",
       ":   2.86699639718775mheight\n",
       ":   3.35406485043639mppwt\n",
       ":   2.53217130948293fage\n",
       ":   6.73506106381177fedyrs\n",
       ":   1.73090856700435fnocig\n",
       ":   2.03545868418776fheight\n",
       ":   1.76295887557838lowbwt\n",
       ":   3.00045148787667mage35\n",
       ":   4.34426527738656\n",
       "\n"
      ],
      "text/plain": [
       "       ID    Length  Headcirc Gestation    smoker      mage    mnocig   mheight \n",
       " 1.553152  4.762267  1.890961  2.646417  2.822707  9.902228  2.866996  3.354065 \n",
       "    mppwt      fage    fedyrs    fnocig   fheight    lowbwt    mage35 \n",
       " 2.532171  6.735061  1.730909  2.035459  1.762959  3.000451  4.344265 "
      ]
     },
     "metadata": {},
     "output_type": "display_data"
    }
   ],
   "source": [
    "vif(lm_model)"
   ]
  },
  {
   "cell_type": "markdown",
   "metadata": {},
   "source": [
    "We know that values higher than 5 should be cause of concerns, here we can already spot a couple bigger than 5. "
   ]
  },
  {
   "cell_type": "markdown",
   "metadata": {},
   "source": [
    "# 2b"
   ]
  },
  {
   "cell_type": "code",
   "execution_count": 24,
   "metadata": {
    "vscode": {
     "languageId": "r"
    }
   },
   "outputs": [
    {
     "data": {
      "text/plain": [
       "\n",
       "Call:\n",
       "lm(formula = Birthweight ~ ., data = df)\n",
       "\n",
       "Residuals:\n",
       "     Min       1Q   Median       3Q      Max \n",
       "-0.47678 -0.20907 -0.02438  0.20960  0.60017 \n",
       "\n",
       "Coefficients:\n",
       "              Estimate Std. Error t value Pr(>|t|)   \n",
       "(Intercept) -3.830e+00  2.169e+00  -1.766  0.08916 . \n",
       "ID          -6.808e-05  1.394e-04  -0.488  0.62931   \n",
       "Length       5.171e-02  3.888e-02   1.330  0.19503   \n",
       "Headcirc     8.688e-02  2.997e-02   2.899  0.00751 **\n",
       "Gestation    9.189e-02  3.219e-02   2.855  0.00834 **\n",
       "smoker      -2.320e-01  1.738e-01  -1.335  0.19353   \n",
       "mage         1.746e-02  2.904e-02   0.601  0.55293   \n",
       "mnocig       2.143e-03  7.078e-03   0.303  0.76442   \n",
       "mheight      1.366e-03  1.473e-02   0.093  0.92680   \n",
       "mppwt        9.371e-03  1.156e-02   0.811  0.42498   \n",
       "fage        -1.079e-02  1.977e-02  -0.546  0.58985   \n",
       "fedyrs      -3.636e-03  3.185e-02  -0.114  0.90998   \n",
       "fnocig       2.041e-03  4.311e-03   0.473  0.63991   \n",
       "fheight     -1.543e-02  9.951e-03  -1.550  0.13317   \n",
       "lowbwt      -1.612e-02  2.558e-01  -0.063  0.95023   \n",
       "mage35      -5.557e-01  3.669e-01  -1.515  0.14194   \n",
       "---\n",
       "Signif. codes:  0 '***' 0.001 '**' 0.01 '*' 0.05 '.' 0.1 ' ' 1\n",
       "\n",
       "Residual standard error: 0.3349 on 26 degrees of freedom\n",
       "Multiple R-squared:  0.805,\tAdjusted R-squared:  0.6925 \n",
       "F-statistic: 7.156 on 15 and 26 DF,  p-value: 7.497e-06\n"
      ]
     },
     "metadata": {},
     "output_type": "display_data"
    }
   ],
   "source": [
    "summary(lm_model)"
   ]
  },
  {
   "cell_type": "markdown",
   "metadata": {},
   "source": [
    "The first variable to remove is  lowbwt followed by mheight, fedyrs, mnocig and so on...it seems that there are many variables with significance value higher than 0.05, we're going to use a function to determine the "
   ]
  },
  {
   "cell_type": "code",
   "execution_count": 25,
   "metadata": {
    "vscode": {
     "languageId": "r"
    }
   },
   "outputs": [],
   "source": [
    "backward_elimination <- function(model) {\n",
    "  while (length(coef(model)) > 1) {\n",
    "    summary_model <- summary(model)\n",
    "    max_p_value <- max(summary_model$coefficients[, \"Pr(>|t|)\"])\n",
    "    \n",
    "    if (max_p_value > 0.05) {\n",
    "      max_p_variable <- rownames(summary_model$coefficients)[which(summary_model$coefficients[, \"Pr(>|t|)\"] == max_p_value)]\n",
    "      model_formula <- as.formula(paste(\". ~ . -\", max_p_variable))\n",
    "      model <- update(model, formula = model_formula)\n",
    "    } else {\n",
    "      break\n",
    "    }\n",
    "  }\n",
    "  return(model)\n",
    "}\n",
    "\n",
    "# Example usage\n",
    "reduced_model <- backward_elimination(lm_model)"
   ]
  },
  {
   "cell_type": "code",
   "execution_count": 26,
   "metadata": {
    "vscode": {
     "languageId": "r"
    }
   },
   "outputs": [
    {
     "data": {
      "text/plain": [
       "\n",
       "Call:\n",
       "lm(formula = Birthweight ~ Headcirc + Gestation, data = df)\n",
       "\n",
       "Coefficients:\n",
       "(Intercept)     Headcirc    Gestation  \n",
       "    -5.4480       0.1198       0.1178  \n"
      ]
     },
     "metadata": {},
     "output_type": "display_data"
    }
   ],
   "source": [
    "reduced_model"
   ]
  },
  {
   "cell_type": "markdown",
   "metadata": {},
   "source": [
    "# 2c"
   ]
  },
  {
   "cell_type": "markdown",
   "metadata": {},
   "source": [
    "First we're finding the average value for the predictor variables, then we're predicting the values for the average predictors and extracting confidence intervals. In the second stage insteadwe calculate prediction values with intervals and finally their intervals."
   ]
  },
  {
   "cell_type": "code",
   "execution_count": 29,
   "metadata": {
    "vscode": {
     "languageId": "r"
    }
   },
   "outputs": [],
   "source": [
    "average_values <- data.frame(\n",
    "  Headcirc = mean(df$Headcirc),\n",
    "  Gestation = mean(df$Gestation)\n",
    ")\n",
    "\n",
    "predicted_values <- predict(reduced_model, newdata = average_values, interval = \"confidence\", level = 0.95)\n",
    "\n",
    "confidence_intervals <- predicted_values[, c(\"fit\", \"lwr\", \"upr\")]\n",
    "\n",
    "predicted_values_with_intervals <- predict(reduced_model, newdata = average_values, interval = \"prediction\", level = 0.95)\n",
    "\n",
    "prediction_intervals <- predicted_values_with_intervals[, c(\"fit\", \"lwr\", \"upr\")]"
   ]
  },
  {
   "cell_type": "code",
   "execution_count": 30,
   "metadata": {
    "vscode": {
     "languageId": "r"
    }
   },
   "outputs": [
    {
     "name": "stdout",
     "output_type": "stream",
     "text": [
      "     fit      lwr      upr \n",
      "3.312857 3.205453 3.420261 \n",
      "     fit      lwr      upr \n",
      "3.312857 2.608563 4.017152 \n"
     ]
    }
   ],
   "source": [
    "print(confidence_intervals)\n",
    "print(prediction_intervals)"
   ]
  },
  {
   "cell_type": "markdown",
   "metadata": {},
   "source": [
    "# 2d"
   ]
  },
  {
   "cell_type": "code",
   "execution_count": 32,
   "metadata": {
    "vscode": {
     "languageId": "r"
    }
   },
   "outputs": [
    {
     "name": "stderr",
     "output_type": "stream",
     "text": [
      "Installing package into 'C:/Users/calcolatore/AppData/Local/R/win-library/4.3'\n",
      "(as 'lib' is unspecified)\n",
      "\n",
      "also installing the dependencies 'iterators', 'foreach', 'shape'\n",
      "\n",
      "\n"
     ]
    },
    {
     "name": "stdout",
     "output_type": "stream",
     "text": [
      "package 'iterators' successfully unpacked and MD5 sums checked\n",
      "package 'foreach' successfully unpacked and MD5 sums checked\n",
      "package 'shape' successfully unpacked and MD5 sums checked\n",
      "package 'glmnet' successfully unpacked and MD5 sums checked\n",
      "\n",
      "The downloaded binary packages are in\n",
      "\tC:\\Users\\calcolatore\\AppData\\Local\\Temp\\Rtmpii5koa\\downloaded_packages\n"
     ]
    },
    {
     "name": "stderr",
     "output_type": "stream",
     "text": [
      "Installing package into 'C:/Users/calcolatore/AppData/Local/R/win-library/4.3'\n",
      "(as 'lib' is unspecified)\n",
      "\n",
      "also installing the dependencies 'listenv', 'parallelly', 'future', 'globals', 'future.apply', 'progressr', 'SQUAREM', 'diagram', 'lava', 'prodlim', 'proxy', 'clock', 'gower', 'hardhat', 'ipred', 'timeDate', 'e1071', 'ModelMetrics', 'plyr', 'pROC', 'recipes', 'reshape2'\n",
      "\n",
      "\n"
     ]
    },
    {
     "name": "stdout",
     "output_type": "stream",
     "text": [
      "\n",
      "  There is a binary version available but the source version is later:\n",
      "           binary source needs_compilation\n",
      "parallelly 1.37.0 1.37.1              TRUE\n",
      "\n",
      "  Binaries will be installed\n",
      "package 'listenv' successfully unpacked and MD5 sums checked\n",
      "package 'parallelly' successfully unpacked and MD5 sums checked\n",
      "package 'future' successfully unpacked and MD5 sums checked\n",
      "package 'globals' successfully unpacked and MD5 sums checked\n",
      "package 'future.apply' successfully unpacked and MD5 sums checked\n",
      "package 'progressr' successfully unpacked and MD5 sums checked\n",
      "package 'SQUAREM' successfully unpacked and MD5 sums checked\n",
      "package 'diagram' successfully unpacked and MD5 sums checked\n",
      "package 'lava' successfully unpacked and MD5 sums checked\n",
      "package 'prodlim' successfully unpacked and MD5 sums checked\n",
      "package 'proxy' successfully unpacked and MD5 sums checked\n",
      "package 'clock' successfully unpacked and MD5 sums checked\n",
      "package 'gower' successfully unpacked and MD5 sums checked\n",
      "package 'hardhat' successfully unpacked and MD5 sums checked\n",
      "package 'ipred' successfully unpacked and MD5 sums checked\n",
      "package 'timeDate' successfully unpacked and MD5 sums checked\n",
      "package 'e1071' successfully unpacked and MD5 sums checked\n",
      "package 'ModelMetrics' successfully unpacked and MD5 sums checked\n",
      "package 'plyr' successfully unpacked and MD5 sums checked\n",
      "package 'pROC' successfully unpacked and MD5 sums checked\n",
      "package 'recipes' successfully unpacked and MD5 sums checked\n",
      "package 'reshape2' successfully unpacked and MD5 sums checked\n",
      "package 'caret' successfully unpacked and MD5 sums checked\n",
      "\n",
      "The downloaded binary packages are in\n",
      "\tC:\\Users\\calcolatore\\AppData\\Local\\Temp\\Rtmpii5koa\\downloaded_packages\n"
     ]
    },
    {
     "name": "stderr",
     "output_type": "stream",
     "text": [
      "Loading required package: Matrix\n",
      "\n",
      "Loaded glmnet 4.1-8\n",
      "\n",
      "Loading required package: lattice\n",
      "\n"
     ]
    }
   ],
   "source": [
    "install.packages(\"glmnet\")\n",
    "install.packages(\"caret\")\n",
    "\n",
    "library(glmnet)\n",
    "library(caret)"
   ]
  },
  {
   "cell_type": "code",
   "execution_count": 40,
   "metadata": {
    "vscode": {
     "languageId": "r"
    }
   },
   "outputs": [],
   "source": [
    "column_to_exclude <- \"Birthweight\"  \n",
    "columns_to_include <- setdiff(names(df), column_to_exclude)\n",
    "\n",
    "x <- as.matrix(df[, columns_to_include])\n",
    "y <- df$Birthweight\n",
    "\n",
    "lasso_model <- cv.glmnet(x, y, alpha = 1)"
   ]
  },
  {
   "cell_type": "code",
   "execution_count": 41,
   "metadata": {
    "vscode": {
     "languageId": "r"
    }
   },
   "outputs": [
    {
     "name": "stdout",
     "output_type": "stream",
     "text": [
      "[1] \"Linear Regression Coefficients:\"\n",
      "(Intercept)    Headcirc   Gestation \n",
      " -5.4479942   0.1197669   0.1178217 \n",
      "[1] \"LASSO Coefficients:\"\n",
      "                      s1\n",
      "(Intercept) -3.856312202\n",
      "ID           0.000000000\n",
      "Length       0.034506533\n",
      "Headcirc     0.077275918\n",
      "Gestation    0.066522674\n",
      "smoker      -0.093882135\n",
      "mage         0.000000000\n",
      "mnocig       0.000000000\n",
      "mheight      0.000000000\n",
      "mppwt        0.003473861\n",
      "fage         0.000000000\n",
      "fedyrs       0.000000000\n",
      "fnocig       0.000000000\n",
      "fheight      0.000000000\n",
      "lowbwt      -0.178176657\n",
      "mage35      -0.081027623\n"
     ]
    }
   ],
   "source": [
    "coefficients_lm <- coef(reduced_model)\n",
    "coefficients_lasso <- as.matrix(coef(lasso_model, s = \"lambda.min\"))\n",
    "\n",
    "print(\"Linear Regression Coefficients:\")\n",
    "print(coefficients_lm)\n",
    "\n",
    "print(\"LASSO Coefficients:\")\n",
    "print(coefficients_lasso)"
   ]
  },
  {
   "cell_type": "code",
   "execution_count": 42,
   "metadata": {
    "vscode": {
     "languageId": "r"
    }
   },
   "outputs": [
    {
     "name": "stdout",
     "output_type": "stream",
     "text": [
      "[1] \"RMSE - Linear Regression:  0.331606307516887\"\n",
      "[1] \"RMSE - LASSO:  0.299011983051364\"\n"
     ]
    }
   ],
   "source": [
    "lm_predictions <- predict(reduced_model, newdata = df)\n",
    "lasso_predictions <- predict(lasso_model, newx = x, s = \"lambda.min\")\n",
    "\n",
    "rmse_lm <- sqrt(mean((lm_predictions - y)^2))\n",
    "rmse_lasso <- sqrt(mean((lasso_predictions - y)^2))\n",
    "\n",
    "print(paste(\"RMSE - Linear Regression: \", rmse_lm))\n",
    "print(paste(\"RMSE - LASSO: \", rmse_lasso))"
   ]
  },
  {
   "cell_type": "markdown",
   "metadata": {},
   "source": [
    "Here the Lasso model seem to be outperforming the model handcrafted in the previous steps."
   ]
  },
  {
   "cell_type": "markdown",
   "metadata": {},
   "source": [
    "# 2e"
   ]
  },
  {
   "cell_type": "code",
   "execution_count": 43,
   "metadata": {
    "vscode": {
     "languageId": "r"
    }
   },
   "outputs": [
    {
     "name": "stdout",
     "output_type": "stream",
     "text": [
      "$`0`\n",
      "   Min. 1st Qu.  Median    Mean 3rd Qu.    Max. \n",
      "  2.650   3.140   3.385   3.510   3.933   4.550 \n",
      "\n",
      "$`1`\n",
      "   Min. 1st Qu.  Median    Mean 3rd Qu.    Max. \n",
      "  1.920   2.743   3.185   3.134   3.545   4.570 \n",
      "\n"
     ]
    }
   ],
   "source": [
    "summary_bwt_smoker <- tapply(df$Birthweight, df$smoker, summary)\n",
    "print(summary_bwt_smoker)"
   ]
  },
  {
   "cell_type": "markdown",
   "metadata": {},
   "source": [
    "As it shows non smokers give birth to children with greater weigth at birth."
   ]
  },
  {
   "cell_type": "code",
   "execution_count": 44,
   "metadata": {
    "vscode": {
     "languageId": "r"
    }
   },
   "outputs": [
    {
     "name": "stdout",
     "output_type": "stream",
     "text": [
      "$`18`\n",
      "   Min. 1st Qu.  Median    Mean 3rd Qu.    Max. \n",
      "   3.63    3.63    3.63    3.63    3.63    3.63 \n",
      "\n",
      "$`19`\n",
      "   Min. 1st Qu.  Median    Mean 3rd Qu.    Max. \n",
      "  2.780   2.840   2.900   3.333   3.610   4.320 \n",
      "\n",
      "$`20`\n",
      "   Min. 1st Qu.  Median    Mean 3rd Qu.    Max. \n",
      "  1.920   2.515   3.420   3.233   3.855   4.550 \n",
      "\n",
      "$`21`\n",
      "   Min. 1st Qu.  Median    Mean 3rd Qu.    Max. \n",
      "  2.740   2.970   3.200   3.197   3.425   3.650 \n",
      "\n",
      "$`22`\n",
      "   Min. 1st Qu.  Median    Mean 3rd Qu.    Max. \n",
      "  2.510   2.667   2.825   2.825   2.982   3.140 \n",
      "\n",
      "$`23`\n",
      "   Min. 1st Qu.  Median    Mean 3rd Qu.    Max. \n",
      "  3.320   3.342   3.365   3.365   3.388   3.410 \n",
      "\n",
      "$`24`\n",
      "   Min. 1st Qu.  Median    Mean 3rd Qu.    Max. \n",
      "  2.650   3.115   3.520   3.408   3.812   3.940 \n",
      "\n",
      "$`26`\n",
      "   Min. 1st Qu.  Median    Mean 3rd Qu.    Max. \n",
      "  2.920   3.072   3.225   3.225   3.377   3.530 \n",
      "\n",
      "$`27`\n",
      "   Min. 1st Qu.  Median    Mean 3rd Qu.    Max. \n",
      "  3.030   3.150   3.255   3.223   3.328   3.350 \n",
      "\n",
      "$`28`\n",
      "   Min. 1st Qu.  Median    Mean 3rd Qu.    Max. \n",
      "   3.11    3.30    3.49    3.49    3.68    3.87 \n",
      "\n",
      "$`29`\n",
      "   Min. 1st Qu.  Median    Mean 3rd Qu.    Max. \n",
      "  3.150   3.345   3.540   3.540   3.735   3.930 \n",
      "\n",
      "$`30`\n",
      "   Min. 1st Qu.  Median    Mean 3rd Qu.    Max. \n",
      "  3.000   3.215   3.430   3.430   3.645   3.860 \n",
      "\n",
      "$`31`\n",
      "   Min. 1st Qu.  Median    Mean 3rd Qu.    Max. \n",
      "  3.180   3.205   3.230   3.333   3.410   3.590 \n",
      "\n",
      "$`32`\n",
      "   Min. 1st Qu.  Median    Mean 3rd Qu.    Max. \n",
      "   4.57    4.57    4.57    4.57    4.57    4.57 \n",
      "\n",
      "$`35`\n",
      "   Min. 1st Qu.  Median    Mean 3rd Qu.    Max. \n",
      "    4.1     4.1     4.1     4.1     4.1     4.1 \n",
      "\n",
      "$`37`\n",
      "   Min. 1st Qu.  Median    Mean 3rd Qu.    Max. \n",
      "   2.75    2.95    3.15    3.15    3.35    3.55 \n",
      "\n",
      "$`41`\n",
      "   Min. 1st Qu.  Median    Mean 3rd Qu.    Max. \n",
      "   2.05    2.05    2.05    2.05    2.05    2.05 \n",
      "\n"
     ]
    }
   ],
   "source": [
    "summary_bwt_age <- tapply(df$Birthweight, df$mage, summary)\n",
    "print(summary_bwt_age)"
   ]
  },
  {
   "cell_type": "code",
   "execution_count": 45,
   "metadata": {
    "vscode": {
     "languageId": "r"
    }
   },
   "outputs": [
    {
     "name": "stdout",
     "output_type": "stream",
     "text": [
      "[1] \"Correlation between Age and Birthweight: 0\"\n"
     ]
    },
    {
     "data": {
      "image/png": "[encoded data removed]",
      "text/plain": [
       "Plot with title \"Maternal Age vs. Birthweight\""
      ]
     },
     "metadata": {
      "image/png": {
       "height": 420,
       "width": 420
      }
     },
     "output_type": "display_data"
    }
   ],
   "source": [
    "plot(df$mage, df$Birthweight, main = \"Maternal Age vs. Birthweight\", xlab = \"Maternal Age\", ylab = \"Birthweight\")\n",
    "\n",
    "correlation_age_bwt <- cor(df$mage, df$Birthweight)\n",
    "print(paste(\"Correlation between Age and Birthweight:\", round(correlation_age_bwt, 3)))"
   ]
  },
  {
   "cell_type": "markdown",
   "metadata": {},
   "source": [
    "It seems taht there is no correlation between the maternal age and the birthweight. "
   ]
  },
  {
   "cell_type": "code",
   "execution_count": 46,
   "metadata": {
    "vscode": {
     "languageId": "r"
    }
   },
   "outputs": [
    {
     "data": {
      "image/png": "[encoded data removed]",
      "text/plain": [
       "Plot with title \"Birthweight by Smoking Status\""
      ]
     },
     "metadata": {
      "image/png": {
       "height": 420,
       "width": 420
      }
     },
     "output_type": "display_data"
    }
   ],
   "source": [
    "boxplot(Birthweight ~ smoker, data = df, main = \"Birthweight by Smoking Status\", xlab = \"Smoker (0: No, 1: Yes)\", ylab = \"Birthweight\")"
   ]
  },
  {
   "cell_type": "markdown",
   "metadata": {},
   "source": [
    "# 2f"
   ]
  },
  {
   "cell_type": "markdown",
   "metadata": {},
   "source": [
    "Here I'm encoding the lowbirthweigth as a binary variable that is 1 when the weigth is below 2.5 and is 0 when the weigth is greater. Thjs is the only way to fit a logistic regression to the otherwise continuous Birthweigth variable. "
   ]
  },
  {
   "cell_type": "code",
   "execution_count": 66,
   "metadata": {
    "vscode": {
     "languageId": "r"
    }
   },
   "outputs": [
    {
     "name": "stderr",
     "output_type": "stream",
     "text": [
      "Warning message:\n",
      "\"glm.fit: algorithm did not converge\"\n",
      "Warning message:\n",
      "\"glm.fit: fitted probabilities numerically 0 or 1 occurred\"\n"
     ]
    },
    {
     "data": {
      "text/plain": [
       "\n",
       "Call:\n",
       "glm(formula = lowbwt ~ ., family = \"binomial\", data = df)\n",
       "\n",
       "Coefficients:\n",
       "                   Estimate Std. Error z value Pr(>|z|)\n",
       "(Intercept)       2.039e+02  3.799e+06       0        1\n",
       "ID               -7.818e-04  2.985e+02       0        1\n",
       "Length           -9.130e+00  6.066e+04       0        1\n",
       "Birthweight      -2.939e+01  4.260e+05       0        1\n",
       "Headcirc          3.690e+00  1.159e+05       0        1\n",
       "Gestation         1.824e+00  1.077e+05       0        1\n",
       "smoker            4.366e+00  5.955e+05       0        1\n",
       "mage             -4.333e+00  3.277e+04       0        1\n",
       "mnocig           -7.994e-01  1.163e+04       0        1\n",
       "mheight           5.843e-01  2.215e+04       0        1\n",
       "mppwt            -6.698e-01  2.067e+04       0        1\n",
       "fage              7.843e-01  2.760e+04       0        1\n",
       "fedyrs            2.202e+00  6.276e+04       0        1\n",
       "fnocig            6.555e-01  1.484e+04       0        1\n",
       "fheight           6.179e-01  1.752e+04       0        1\n",
       "mage35            9.380e+01  5.973e+05       0        1\n",
       "low_birth_weight  1.783e+00  5.002e+05       0        1\n",
       "\n",
       "(Dispersion parameter for binomial family taken to be 1)\n",
       "\n",
       "    Null deviance: 3.4450e+01  on 41  degrees of freedom\n",
       "Residual deviance: 7.8987e-10  on 25  degrees of freedom\n",
       "AIC: 34\n",
       "\n",
       "Number of Fisher Scoring iterations: 25\n"
      ]
     },
     "metadata": {},
     "output_type": "display_data"
    }
   ],
   "source": [
    "logistic_model <- glm(lowbwt ~ ., data = df, family = \"binomial\")\n",
    "summary(logistic_model)"
   ]
  },
  {
   "cell_type": "code",
   "execution_count": 67,
   "metadata": {
    "vscode": {
     "languageId": "r"
    }
   },
   "outputs": [
    {
     "data": {
      "text/html": [
       "<style>\n",
       ".dl-inline {width: auto; margin:0; padding: 0}\n",
       ".dl-inline>dt, .dl-inline>dd {float: none; width: auto; display: inline-block}\n",
       ".dl-inline>dt::after {content: \":\\0020\"; padding-right: .5ex}\n",
       ".dl-inline>dt:not(:first-of-type) {padding-left: .5ex}\n",
       "</style><dl class=dl-inline><dt>(Intercept)</dt><dd>3.42488028249744e+88</dd><dt>ID</dt><dd>0.999218521385321</dd><dt>Length</dt><dd>0.000108395813550071</dd><dt>Birthweight</dt><dd>1.71762456378216e-13</dd><dt>Headcirc</dt><dd>40.0515292602264</dd><dt>Gestation</dt><dd>6.19956165405278</dd><dt>smoker</dt><dd>78.7421261447942</dd><dt>mage</dt><dd>0.0131331643151913</dd><dt>mnocig</dt><dd>0.449604163529191</dd><dt>mheight</dt><dd>1.79380738412501</dd><dt>mppwt</dt><dd>0.511797197634936</dd><dt>fage</dt><dd>2.19077369300802</dd><dt>fedyrs</dt><dd>9.03911730538972</dd><dt>fnocig</dt><dd>1.9260431607968</dd><dt>fheight</dt><dd>1.85508941648675</dd><dt>mage35</dt><dd>5.4421752637482e+40</dd><dt>low_birth_weight</dt><dd>5.94979805605748</dd></dl>\n"
      ],
      "text/latex": [
       "\\begin{description*}\n",
       "\\item[(Intercept)] 3.42488028249744e+88\n",
       "\\item[ID] 0.999218521385321\n",
       "\\item[Length] 0.000108395813550071\n",
       "\\item[Birthweight] 1.71762456378216e-13\n",
       "\\item[Headcirc] 40.0515292602264\n",
       "\\item[Gestation] 6.19956165405278\n",
       "\\item[smoker] 78.7421261447942\n",
       "\\item[mage] 0.0131331643151913\n",
       "\\item[mnocig] 0.449604163529191\n",
       "\\item[mheight] 1.79380738412501\n",
       "\\item[mppwt] 0.511797197634936\n",
       "\\item[fage] 2.19077369300802\n",
       "\\item[fedyrs] 9.03911730538972\n",
       "\\item[fnocig] 1.9260431607968\n",
       "\\item[fheight] 1.85508941648675\n",
       "\\item[mage35] 5.4421752637482e+40\n",
       "\\item[low\\textbackslash{}\\_birth\\textbackslash{}\\_weight] 5.94979805605748\n",
       "\\end{description*}\n"
      ],
      "text/markdown": [
       "(Intercept)\n",
       ":   3.42488028249744e+88ID\n",
       ":   0.999218521385321Length\n",
       ":   0.000108395813550071Birthweight\n",
       ":   1.71762456378216e-13Headcirc\n",
       ":   40.0515292602264Gestation\n",
       ":   6.19956165405278smoker\n",
       ":   78.7421261447942mage\n",
       ":   0.0131331643151913mnocig\n",
       ":   0.449604163529191mheight\n",
       ":   1.79380738412501mppwt\n",
       ":   0.511797197634936fage\n",
       ":   2.19077369300802fedyrs\n",
       ":   9.03911730538972fnocig\n",
       ":   1.9260431607968fheight\n",
       ":   1.85508941648675mage35\n",
       ":   5.4421752637482e+40low_birth_weight\n",
       ":   5.94979805605748\n",
       "\n"
      ],
      "text/plain": [
       "     (Intercept)               ID           Length      Birthweight \n",
       "    3.424880e+88     9.992185e-01     1.083958e-04     1.717625e-13 \n",
       "        Headcirc        Gestation           smoker             mage \n",
       "    4.005153e+01     6.199562e+00     7.874213e+01     1.313316e-02 \n",
       "          mnocig          mheight            mppwt             fage \n",
       "    4.496042e-01     1.793807e+00     5.117972e-01     2.190774e+00 \n",
       "          fedyrs           fnocig          fheight           mage35 \n",
       "    9.039117e+00     1.926043e+00     1.855089e+00     5.442175e+40 \n",
       "low_birth_weight \n",
       "    5.949798e+00 "
      ]
     },
     "metadata": {},
     "output_type": "display_data"
    }
   ],
   "source": [
    "odds_ratios <- exp(coef(logistic_model))\n",
    "odds_ratios"
   ]
  },
  {
   "cell_type": "markdown",
   "metadata": {},
   "source": [
    "# 2g"
   ]
  },
  {
   "cell_type": "code",
   "execution_count": 71,
   "metadata": {
    "vscode": {
     "languageId": "r"
    }
   },
   "outputs": [
    {
     "name": "stderr",
     "output_type": "stream",
     "text": [
      "Installing package into 'C:/Users/calcolatore/AppData/Local/R/win-library/4.3'\n",
      "(as 'lib' is unspecified)\n",
      "\n",
      "also installing the dependency 'pander'\n",
      "\n",
      "\n"
     ]
    },
    {
     "name": "stdout",
     "output_type": "stream",
     "text": [
      "package 'pander' successfully unpacked and MD5 sums checked\n",
      "package 'jtools' successfully unpacked and MD5 sums checked\n",
      "\n",
      "The downloaded binary packages are in\n",
      "\tC:\\Users\\calcolatore\\AppData\\Local\\Temp\\Rtmpii5koa\\downloaded_packages\n"
     ]
    }
   ],
   "source": [
    "install.packages(\"jtools\")\n",
    "library(jtools)"
   ]
  },
  {
   "cell_type": "code",
   "execution_count": 72,
   "metadata": {
    "vscode": {
     "languageId": "r"
    }
   },
   "outputs": [
    {
     "data": {
      "text/plain": [
       "\u001b[4mMODEL INFO:\u001b[24m\n",
       "\u001b[3mObservations:\u001b[23m 42\n",
       "\u001b[3mDependent Variable:\u001b[23m Birthweight\n",
       "\u001b[3mType:\u001b[23m OLS linear regression \n",
       "\n",
       "\u001b[4mMODEL FIT:\u001b[24m\n",
       "\u001b[3mF\u001b[23m(3,38) = 17.45, \u001b[3mp\u001b[23m = 0.00\n",
       "\u001b[3mR² = \u001b[23m0.58\n",
       "\u001b[3mAdj. R² = \u001b[23m0.55 \n",
       "\n",
       "\u001b[3mStandard errors: OLS\u001b[23m\n",
       "-----------------------------------------------------\n",
       "                          Est.   S.E.   t val.      p\n",
       "---------------------- ------- ------ -------- ------\n",
       "(Intercept)              -1.57   1.32    -1.19   0.24\n",
       "Gestation                 0.13   0.03     3.86   0.00\n",
       "smoker                   -2.59   1.90    -1.36   0.18\n",
       "Gestation:smoker          0.06   0.05     1.21   0.23\n",
       "-----------------------------------------------------"
      ]
     },
     "metadata": {},
     "output_type": "display_data"
    }
   ],
   "source": [
    "lm_model_interaction_smoker <- lm(Birthweight ~ Gestation * smoker + smoker, data = df)\n",
    "\n",
    "# Print the summary\n",
    "summ(lm_model_interaction_smoker)"
   ]
  },
  {
   "cell_type": "code",
   "execution_count": 73,
   "metadata": {
    "vscode": {
     "languageId": "r"
    }
   },
   "outputs": [
    {
     "name": "stderr",
     "output_type": "stream",
     "text": [
      "Installing package into 'C:/Users/calcolatore/AppData/Local/R/win-library/4.3'\n",
      "(as 'lib' is unspecified)\n",
      "\n",
      "also installing the dependencies 'estimability', 'effectsize', 'emmeans', 'bayestestR', 'datawizard', 'ggeffects', 'insight', 'parameters', 'performance', 'sjlabelled', 'sjmisc', 'sjstats'\n",
      "\n",
      "\n"
     ]
    },
    {
     "name": "stdout",
     "output_type": "stream",
     "text": [
      "package 'estimability' successfully unpacked and MD5 sums checked\n",
      "package 'effectsize' successfully unpacked and MD5 sums checked\n",
      "package 'emmeans' successfully unpacked and MD5 sums checked\n",
      "package 'bayestestR' successfully unpacked and MD5 sums checked\n",
      "package 'datawizard' successfully unpacked and MD5 sums checked\n",
      "package 'ggeffects' successfully unpacked and MD5 sums checked\n",
      "package 'insight' successfully unpacked and MD5 sums checked\n",
      "package 'parameters' successfully unpacked and MD5 sums checked\n",
      "package 'performance' successfully unpacked and MD5 sums checked\n",
      "package 'sjlabelled' successfully unpacked and MD5 sums checked\n",
      "package 'sjmisc' successfully unpacked and MD5 sums checked\n",
      "package 'sjstats' successfully unpacked and MD5 sums checked\n",
      "package 'sjPlot' successfully unpacked and MD5 sums checked\n",
      "\n",
      "The downloaded binary packages are in\n",
      "\tC:\\Users\\calcolatore\\AppData\\Local\\Temp\\Rtmpii5koa\\downloaded_packages\n"
     ]
    },
    {
     "name": "stderr",
     "output_type": "stream",
     "text": [
      "Registered S3 methods overwritten by 'broom':\n",
      "  method            from  \n",
      "  tidy.glht         jtools\n",
      "  tidy.summary.glht jtools\n",
      "\n",
      "Install package \"strengejacke\" from GitHub (`devtools::install_github(\"strengejacke/strengejacke\")`) to load all sj-packages at once!\n",
      "\n"
     ]
    }
   ],
   "source": [
    "install.packages(\"sjPlot\") \n",
    "library(sjPlot)"
   ]
  },
  {
   "cell_type": "code",
   "execution_count": 77,
   "metadata": {
    "vscode": {
     "languageId": "r"
    }
   },
   "outputs": [
    {
     "data": {
      "image/png": "[encoded data removed]",
      "text/plain": [
       "plot without title"
      ]
     },
     "metadata": {
      "image/png": {
       "height": 420,
       "width": 420
      }
     },
     "output_type": "display_data"
    }
   ],
   "source": [
    "interaction.plot(x.factor = df$Gestation, trace.factor = df$smoker, response = df$Birthweight)"
   ]
  },
  {
   "cell_type": "code",
   "execution_count": 78,
   "metadata": {
    "vscode": {
     "languageId": "r"
    }
   },
   "outputs": [
    {
     "data": {
      "text/plain": [
       "\u001b[4mMODEL INFO:\u001b[24m\n",
       "\u001b[3mObservations:\u001b[23m 42\n",
       "\u001b[3mDependent Variable:\u001b[23m Birthweight\n",
       "\u001b[3mType:\u001b[23m OLS linear regression \n",
       "\n",
       "\u001b[4mMODEL FIT:\u001b[24m\n",
       "\u001b[3mF\u001b[23m(3,38) = 14.68, \u001b[3mp\u001b[23m = 0.00\n",
       "\u001b[3mR² = \u001b[23m0.54\n",
       "\u001b[3mAdj. R² = \u001b[23m0.50 \n",
       "\n",
       "\u001b[3mStandard errors: OLS\u001b[23m\n",
       "-----------------------------------------------------\n",
       "                          Est.   S.E.   t val.      p\n",
       "---------------------- ------- ------ -------- ------\n",
       "(Intercept)              -2.61   1.04    -2.51   0.02\n",
       "Gestation                 0.15   0.03     5.74   0.00\n",
       "mage35                   -4.97   3.53    -1.41   0.17\n",
       "Gestation:mage35          0.12   0.09     1.34   0.19\n",
       "-----------------------------------------------------"
      ]
     },
     "metadata": {},
     "output_type": "display_data"
    }
   ],
   "source": [
    "lm_model_interaction_mage35 <- lm(Birthweight ~ Gestation * mage35 + mage35, data = df)\n",
    "\n",
    "# Print the summary\n",
    "summ(lm_model_interaction_mage35)"
   ]
  },
  {
   "cell_type": "code",
   "execution_count": 79,
   "metadata": {
    "vscode": {
     "languageId": "r"
    }
   },
   "outputs": [
    {
     "data": {
      "image/png": "[encoded data removed]",
      "text/plain": [
       "plot without title"
      ]
     },
     "metadata": {
      "image/png": {
       "height": 420,
       "width": 420
      }
     },
     "output_type": "display_data"
    }
   ],
   "source": [
    "interaction.plot(x.factor = df$Gestation, trace.factor = df$mage35, response = df$Birthweight)"
   ]
  },
  {
   "cell_type": "markdown",
   "metadata": {},
   "source": [
    "Here I'm gonna choose lm_model_innteraction_smoker because it has a higher R^2 value. "
   ]
  },
  {
   "cell_type": "markdown",
   "metadata": {},
   "source": [
    "# 2h"
   ]
  },
  {
   "cell_type": "code",
   "execution_count": 83,
   "metadata": {
    "vscode": {
     "languageId": "r"
    }
   },
   "outputs": [
    {
     "name": "stdout",
     "output_type": "stream",
     "text": [
      "  Gestation smoker mage35 Predicted_Birthweight\n",
      "1        40      0      0              3.457612\n",
      "2        40      1      0              3.457612\n",
      "3        40      0      1              3.316667\n",
      "4        40      1      1              3.316667\n"
     ]
    }
   ],
   "source": [
    "new_data <- expand.grid(Gestation = 40, smoker = c(0, 1), mage35 = c(0, 1))\n",
    "\n",
    "predicted_birthweights <- predict(lm_model_interaction_smoker, newdata = new_data, type = \"response\")\n",
    "result <- cbind(new_data, Predicted_Birthweight = predicted_birthweights)\n",
    "print(result)"
   ]
  },
  {
   "cell_type": "markdown",
   "metadata": {},
   "source": [
    "The results are not in the range 0 to 1 which makes us consider the fact that errors were made in the process of finding the probabilities."
   ]
  },
  {
   "cell_type": "markdown",
   "metadata": {},
   "source": [
    "# 2i"
   ]
  },
  {
   "cell_type": "code",
   "execution_count": 85,
   "metadata": {
    "vscode": {
     "languageId": "r"
    }
   },
   "outputs": [
    {
     "name": "stderr",
     "output_type": "stream",
     "text": [
      "Warning message in chisq.test(contingency_table):\n",
      "\"Chi-squared approximation may be incorrect\"\n"
     ]
    },
    {
     "name": "stdout",
     "output_type": "stream",
     "text": [
      "\n",
      "\tPearson's Chi-squared test with Yates' continuity correction\n",
      "\n",
      "data:  contingency_table\n",
      "X-squared = 0.18149, df = 1, p-value = 0.6701\n",
      "\n"
     ]
    }
   ],
   "source": [
    "contingency_table <- table(df$smoker, df$mage35)\n",
    "chi_squared_result <- chisq.test(contingency_table)\n",
    "\n",
    "\n",
    "print(chi_squared_result)"
   ]
  },
  {
   "cell_type": "markdown",
   "metadata": {},
   "source": [
    "Simplicity: Contingency table tests are relatively simple to implement"
   ]
  },
  {
   "cell_type": "markdown",
   "metadata": {},
   "source": [
    "Limited Modeling: Contingency table tests provide information about associations between variables but do not directly model the relationship\n",
    "\n",
    "Assumes Independence: The Chi-squared test assumes independence between the variables,"
   ]
  },
  {
   "cell_type": "markdown",
   "metadata": {},
   "source": [
    "Modeling Complexity: Logistic regression allows for the modeling of complex relationships\n",
    "\n",
    "Assumption of Linearity: Logistic regression assumes a linear relationship between the log odds and predictors,\n",
    "\n",
    "Sensitivity to Outliers: Logistic regression can be sensitive to outliers"
   ]
  },
  {
   "cell_type": "markdown",
   "metadata": {},
   "source": [
    "# 3a"
   ]
  },
  {
   "cell_type": "code",
   "execution_count": 94,
   "metadata": {
    "vscode": {
     "languageId": "r"
    }
   },
   "outputs": [
    {
     "data": {
      "text/html": [
       "<table class=\"dataframe\">\n",
       "<caption>A data.frame: 6 × 3</caption>\n",
       "<thead>\n",
       "\t<tr><th></th><th scope=col>num_awards</th><th scope=col>prog</th><th scope=col>math</th></tr>\n",
       "\t<tr><th></th><th scope=col>&lt;int&gt;</th><th scope=col>&lt;int&gt;</th><th scope=col>&lt;int&gt;</th></tr>\n",
       "</thead>\n",
       "<tbody>\n",
       "\t<tr><th scope=row>1</th><td>1</td><td>3</td><td>41</td></tr>\n",
       "\t<tr><th scope=row>2</th><td>1</td><td>1</td><td>41</td></tr>\n",
       "\t<tr><th scope=row>3</th><td>1</td><td>3</td><td>44</td></tr>\n",
       "\t<tr><th scope=row>4</th><td>1</td><td>3</td><td>42</td></tr>\n",
       "\t<tr><th scope=row>5</th><td>1</td><td>3</td><td>40</td></tr>\n",
       "\t<tr><th scope=row>6</th><td>1</td><td>1</td><td>42</td></tr>\n",
       "</tbody>\n",
       "</table>\n"
      ],
      "text/latex": [
       "A data.frame: 6 × 3\n",
       "\\begin{tabular}{r|lll}\n",
       "  & num\\_awards & prog & math\\\\\n",
       "  & <int> & <int> & <int>\\\\\n",
       "\\hline\n",
       "\t1 & 1 & 3 & 41\\\\\n",
       "\t2 & 1 & 1 & 41\\\\\n",
       "\t3 & 1 & 3 & 44\\\\\n",
       "\t4 & 1 & 3 & 42\\\\\n",
       "\t5 & 1 & 3 & 40\\\\\n",
       "\t6 & 1 & 1 & 42\\\\\n",
       "\\end{tabular}\n"
      ],
      "text/markdown": [
       "\n",
       "A data.frame: 6 × 3\n",
       "\n",
       "| <!--/--> | num_awards &lt;int&gt; | prog &lt;int&gt; | math &lt;int&gt; |\n",
       "|---|---|---|---|\n",
       "| 1 | 1 | 3 | 41 |\n",
       "| 2 | 1 | 1 | 41 |\n",
       "| 3 | 1 | 3 | 44 |\n",
       "| 4 | 1 | 3 | 42 |\n",
       "| 5 | 1 | 3 | 40 |\n",
       "| 6 | 1 | 1 | 42 |\n",
       "\n"
      ],
      "text/plain": [
       "  num_awards prog math\n",
       "1 1          3    41  \n",
       "2 1          1    41  \n",
       "3 1          3    44  \n",
       "4 1          3    42  \n",
       "5 1          3    40  \n",
       "6 1          1    42  "
      ]
     },
     "metadata": {},
     "output_type": "display_data"
    }
   ],
   "source": [
    "df <- read.table(\"awards.txt\", header = TRUE)\n",
    "head(df)"
   ]
  },
  {
   "cell_type": "code",
   "execution_count": 98,
   "metadata": {
    "vscode": {
     "languageId": "r"
    }
   },
   "outputs": [
    {
     "data": {
      "text/plain": [
       "\u001b[4mMODEL INFO:\u001b[24m\n",
       "\u001b[3mObservations:\u001b[23m 200\n",
       "\u001b[3mDependent Variable:\u001b[23m num_awards\n",
       "\u001b[3mType:\u001b[23m Generalized linear model\n",
       "  \u001b[3mFamily:\u001b[23m poisson \n",
       "  \u001b[3mLink function:\u001b[23m log \n",
       "\n",
       "\u001b[4mMODEL FIT:\u001b[24m\n",
       "χ²(1) = 2.18, \u001b[3mp\u001b[23m = 0.14\n",
       "\u001b[3mPseudo-R² (Cragg-Uhler)\u001b[23m = 0.01\n",
       "\u001b[3mPseudo-R² (McFadden)\u001b[23m = 0.00\n",
       "\u001b[3mAIC\u001b[23m = 520.97, \u001b[3mBIC\u001b[23m = 527.57 \n",
       "\n",
       "\u001b[3mStandard errors: MLE\u001b[23m\n",
       "------------------------------------------------\n",
       "                     Est.   S.E.   z val.      p\n",
       "----------------- ------- ------ -------- ------\n",
       "(Intercept)         -0.35   0.23    -1.51   0.13\n",
       "prog                 0.15   0.10     1.47   0.14\n",
       "------------------------------------------------"
      ]
     },
     "metadata": {},
     "output_type": "display_data"
    },
    {
     "name": "stdout",
     "output_type": "stream",
     "text": [
      "  Program_Type Predicted_Awards\n",
      "1            3        1.1211213\n",
      "2            1        0.8234681\n",
      "3            2        1.1211213\n"
     ]
    }
   ],
   "source": [
    "\n",
    "poisson_model <- glm(num_awards ~ prog, data = df, family = \"poisson\")\n",
    "\n",
    "summ(poisson_model)\n",
    "\n",
    "predicted_awards <- predict(poisson_model, type = \"response\")\n",
    "\n",
    "result <- data.frame(Program_Type = unique(df$prog), Predicted_Awards = predicted_awards[1:3])\n",
    "\n",
    "print(result)"
   ]
  },
  {
   "cell_type": "markdown",
   "metadata": {},
   "source": [
    "# 3b"
   ]
  },
  {
   "cell_type": "markdown",
   "metadata": {},
   "source": [
    "The Kruskal-Wallis test is a non-parametric test used to determine whether there are statistically significant differences between two or more independent groups. If we want to explore differences in the number of awards among different program types without assuming a specific distribution, we can use the Kruskal-Wallis test."
   ]
  },
  {
   "cell_type": "code",
   "execution_count": 100,
   "metadata": {
    "vscode": {
     "languageId": "r"
    }
   },
   "outputs": [
    {
     "name": "stdout",
     "output_type": "stream",
     "text": [
      "\n",
      "\tKruskal-Wallis rank sum test\n",
      "\n",
      "data:  num_awards by prog\n",
      "Kruskal-Wallis chi-squared = 10.755, df = 2, p-value = 0.00462\n",
      "\n"
     ]
    }
   ],
   "source": [
    "kruskal_test_result <- kruskal.test(num_awards ~ prog, data = df)\n",
    "\n",
    "print(kruskal_test_result)"
   ]
  },
  {
   "cell_type": "markdown",
   "metadata": {},
   "source": [
    "Given that the p-value is below the significance value of 0.05 we can conclude that there are differences in the number of awrds amongst the different program types. "
   ]
  },
  {
   "cell_type": "markdown",
   "metadata": {},
   "source": [
    "# 3c"
   ]
  },
  {
   "cell_type": "code",
   "execution_count": 101,
   "metadata": {
    "vscode": {
     "languageId": "r"
    }
   },
   "outputs": [
    {
     "data": {
      "text/plain": [
       "\u001b[4mMODEL INFO:\u001b[24m\n",
       "\u001b[3mObservations:\u001b[23m 200\n",
       "\u001b[3mDependent Variable:\u001b[23m num_awards\n",
       "\u001b[3mType:\u001b[23m Generalized linear model\n",
       "  \u001b[3mFamily:\u001b[23m poisson \n",
       "  \u001b[3mLink function:\u001b[23m log \n",
       "\n",
       "\u001b[4mMODEL FIT:\u001b[24m\n",
       "χ²(3) = 30.66, \u001b[3mp\u001b[23m = 0.00\n",
       "\u001b[3mPseudo-R² (Cragg-Uhler)\u001b[23m = 0.15\n",
       "\u001b[3mPseudo-R² (McFadden)\u001b[23m = 0.06\n",
       "\u001b[3mAIC\u001b[23m = 496.49, \u001b[3mBIC\u001b[23m = 509.69 \n",
       "\n",
       "\u001b[3mStandard errors: MLE\u001b[23m\n",
       "------------------------------------------------\n",
       "                     Est.   S.E.   z val.      p\n",
       "----------------- ------- ------ -------- ------\n",
       "(Intercept)         -4.25   1.72    -2.47   0.01\n",
       "prog                 0.95   0.74     1.28   0.20\n",
       "math                 0.07   0.03     2.13   0.03\n",
       "prog:math           -0.01   0.01    -0.94   0.35\n",
       "------------------------------------------------"
      ]
     },
     "metadata": {},
     "output_type": "display_data"
    }
   ],
   "source": [
    "poisson_model <- glm(num_awards ~ prog * math, data = df, family = \"poisson\")\n",
    "\n",
    "summ(poisson_model)"
   ]
  },
  {
   "cell_type": "code",
   "execution_count": 104,
   "metadata": {
    "vscode": {
     "languageId": "r"
    }
   },
   "outputs": [
    {
     "name": "stdout",
     "output_type": "stream",
     "text": [
      "    num_awards prog math Predicted_Awards\n",
      "1            1    3   41        0.7998398\n",
      "2            1    1   41        0.3599807\n",
      "3            1    3   44        0.8716713\n",
      "4            1    3   42        0.8231006\n",
      "5            1    3   40        0.7772364\n",
      "6            1    1   42        0.3805744\n",
      "7            1    3   46        0.9231081\n",
      "8            1    3   40        0.7772364\n",
      "9            1    3   33        0.6359218\n",
      "10           1    3   46        0.9231081\n",
      "11           1    3   40        0.7772364\n",
      "12           0    2   38        0.4728525\n",
      "13           1    3   44        0.8716713\n",
      "14           1    3   37        0.7131869\n",
      "15           1    3   40        0.7772364\n",
      "16           1    1   39        0.3220760\n",
      "17           1    1   43        0.4023462\n",
      "18           0    3   38        0.7339277\n",
      "19           1    2   45        0.6351286\n",
      "20           0    3   39        0.7552717\n",
      "21           1    1   42        0.3805744\n",
      "22           1    3   45        0.8970211\n",
      "23           1    3   40        0.7772364\n",
      "24           0    3   40        0.7772364\n",
      "25           1    2   43        0.5837829\n",
      "26           1    2   49        0.7517653\n",
      "27           1    1   44        0.4253636\n",
      "28           1    1   46        0.4754240\n",
      "29           0    2   46        0.6624709\n",
      "30           1    2   41        0.5365882\n",
      "31           0    1   42        0.3805744\n",
      "32           0    3   47        0.9499538\n",
      "33           1    2   43        0.5837829\n",
      "34           1    2   49        0.7517653\n",
      "35           1    3   40        0.7772364\n",
      "36           1    3   39        0.7552717\n",
      "37           1    3   49        1.0060100\n",
      "38           0    2   42        0.5596883\n",
      "39           0    1   43        0.4023462\n",
      "40           0    2   41        0.5365882\n",
      "41           0    1   57        0.8766887\n",
      "42           0    2   50        0.7841288\n",
      "43           0    2   44        0.6089148\n",
      "44           0    3   39        0.7552717\n",
      "45           0    2   52        0.8530957\n",
      "46           1    3   41        0.7998398\n",
      "47           0    3   39        0.7552717\n",
      "48           0    1   39        0.3220760\n",
      "49           0    3   52        1.0963571\n",
      "50           1    2   48        0.7207375\n",
      "51           3    2   45        0.6351286\n",
      "52           2    3   40        0.7772364\n",
      "53           3    1   46        0.4754240\n",
      "54           3    2   50        0.7841288\n",
      "55           0    2   43        0.5837829\n",
      "56           0    1   43        0.4023462\n",
      "57           1    2   54        0.9281283\n",
      "58           1    1   42        0.3805744\n",
      "59           2    3   45        0.8970211\n",
      "60           2    1   54        0.7419322\n",
      "61           3    3   47        0.9499538\n",
      "62           1    2   45        0.6351286\n",
      "63           0    2   43        0.5837829\n",
      "64           1    3   40        0.7772364\n",
      "65           0    3   52        1.0963571\n",
      "66           1    3   52        1.0963571\n",
      "67           0    1   45        0.4496978\n",
      "68           1    2   49        0.7517653\n",
      "69           1    2   53        0.8898215\n",
      "70           0    1   54        0.7419322\n",
      "71           2    2   50        0.7841288\n",
      "72           0    2   48        0.7207375\n",
      "73           0    2   51        0.8178856\n",
      "74           0    1   41        0.3599807\n",
      "75           1    3   51        1.0653740\n",
      "76           0    1   46        0.4754240\n",
      "77           0    3   55        1.1948180\n",
      "78           0    1   46        0.4754240\n",
      "79           2    1   61        1.0951836\n",
      "80           1    2   45        0.6351286\n",
      "81           1    3   54        1.1610524\n",
      "82           1    2   54        0.9281283\n",
      "83           1    2   51        0.8178856\n",
      "84           0    1   49        0.5617748\n",
      "85           1    3   56        1.2295655\n",
      "86           2    2   53        0.8898215\n",
      "87           1    1   49        0.5617748\n",
      "88           3    1   57        0.8766887\n",
      "89           0    1   42        0.3805744\n",
      "90           1    3   46        0.9231081\n",
      "91           1    3   45        0.8970211\n",
      "92           1    1   55        0.7843766\n",
      "93           1    3   47        0.9499538\n",
      "94           0    2   50        0.7841288\n",
      "95           1    3   41        0.7998398\n",
      "96           0    1   52        0.6638095\n",
      "97           1    2   57        1.0532306\n",
      "98           1    3   53        1.1282411\n",
      "99           1    3   51        1.0653740\n",
      "100          1    1   57        0.8766887\n",
      "101          1    2   51        0.8178856\n",
      "102          0    3   40        0.7772364\n",
      "103          2    3   50        1.0352666\n",
      "104          2    3   57        1.2653235\n",
      "105          0    1   35        0.2578201\n",
      "106          1    2   49        0.7517653\n",
      "107          0    1   50        0.5939128\n",
      "108          1    1   55        0.7843766\n",
      "109          0    2   48        0.7207375\n",
      "110          0    2   52        0.8530957\n",
      "111          1    2   53        0.8898215\n",
      "112          1    2   59        1.1458658\n",
      "113          2    2   66        1.5391105\n",
      "114          0    2   57        1.0532306\n",
      "115          1    2   54        0.9281283\n",
      "116          0    3   57        1.2653235\n",
      "117          1    2   54        0.9281283\n",
      "118          0    2   54        0.9281283\n",
      "119          0    2   54        0.9281283\n",
      "120          2    2   49        0.7517653\n",
      "121          1    3   51        1.0653740\n",
      "122          3    2   58        1.0985722\n",
      "123          1    2   60        1.1951954\n",
      "124          1    2   51        0.8178856\n",
      "125          1    2   63        1.3562956\n",
      "126          1    2   50        0.7841288\n",
      "127          1    2   53        0.8898215\n",
      "128          0    2   53        0.8898215\n",
      "129          0    2   55        0.9680843\n",
      "130          1    2   56        1.0097604\n",
      "131          0    2   49        0.7517653\n",
      "132          1    2   61        1.2466486\n",
      "133          0    1   49        0.5617748\n",
      "134          0    2   57        1.0532306\n",
      "135          0    2   66        1.5391105\n",
      "136          0    1   56        0.8292491\n",
      "137          3    2   60        1.1951954\n",
      "138          1    2   57        1.0532306\n",
      "139          1    2   59        1.1458658\n",
      "140          1    2   58        1.0985722\n",
      "141          0    2   57        1.0532306\n",
      "142          3    2   64        1.4146842\n",
      "143          0    1   60        1.0359208\n",
      "144          0    1   54        0.7419322\n",
      "145          1    2   61        1.2466486\n",
      "146          1    1   58        0.9268421\n",
      "147          0    1   56        0.8292491\n",
      "148          0    1   60        1.0359208\n",
      "149          0    2   55        0.9680843\n",
      "150          3    2   57        1.0532306\n",
      "151          0    2   62        1.3003169\n",
      "152          0    2   56        1.0097604\n",
      "153          0    2   51        0.8178856\n",
      "154          2    3   56        1.2295655\n",
      "155          0    1   61        1.0951836\n",
      "156          1    2   63        1.3562956\n",
      "157          5    2   61        1.2466486\n",
      "158          0    2   67        1.6053693\n",
      "159          0    2   48        0.7207375\n",
      "160          1    2   61        1.2466486\n",
      "161          0    1   57        0.8766887\n",
      "162          0    1   48        0.5313759\n",
      "163          2    2   65        1.4755865\n",
      "164          4    2   62        1.3003169\n",
      "165          1    2   61        1.2466486\n",
      "166          0    3   53        1.1282411\n",
      "167          1    1   58        0.9268421\n",
      "168          1    2   64        1.4146842\n",
      "169          3    2   65        1.4755865\n",
      "170          1    1   56        0.8292491\n",
      "171          1    1   63        1.2240741\n",
      "172          3    2   57        1.0532306\n",
      "173          2    2   72        1.9819866\n",
      "174          0    3   66        1.6377618\n",
      "175          0    2   62        1.3003169\n",
      "176          1    2   58        1.0985722\n",
      "177          1    2   63        1.3562956\n",
      "178          3    2   64        1.4146842\n",
      "179          2    2   72        1.9819866\n",
      "180          0    2   64        1.4146842\n",
      "181          6    2   69        1.7465670\n",
      "182          4    2   70        1.8217568\n",
      "183          1    2   66        1.5391105\n",
      "184          0    1   58        0.9268421\n",
      "185          2    2   62        1.3003169\n",
      "186          2    2   67        1.6053693\n",
      "187          1    2   64        1.4146842\n",
      "188          2    2   63        1.3562956\n",
      "189          1    2   68        1.6744806\n",
      "190          1    2   75        2.2491383\n",
      "191          0    2   69        1.7465670\n",
      "192          1    2   65        1.4755865\n",
      "193          2    2   71        1.9001836\n",
      "194          5    2   71        1.9001836\n",
      "195          1    2   60        1.1951954\n",
      "196          2    2   71        1.9001836\n",
      "197          2    3   75        2.1198246\n",
      "198          1    2   71        1.9001836\n",
      "199          0    2   72        1.9819866\n",
      "200          3    2   73        2.0673112\n"
     ]
    }
   ],
   "source": [
    "new_data <- expand.grid(prog = unique(df$prog), math = 56)\n",
    "predicted_awards <- predict(poisson_model, newdata = df, type = \"response\")\n",
    "\n",
    "result <- cbind(df, Predicted_Awards = predicted_awards)\n",
    "print(result)"
   ]
  }
 ],
 "metadata": {
  "kernelspec": {
   "display_name": "R",
   "language": "R",
   "name": "ir"
  },
  "language_info": {
   "codemirror_mode": "r",
   "file_extension": ".r",
   "mimetype": "text/x-r-source",
   "name": "R",
   "pygments_lexer": "r",
   "version": "4.3.2"
  }
 },
 "nbformat": 4,
 "nbformat_minor": 2
}
